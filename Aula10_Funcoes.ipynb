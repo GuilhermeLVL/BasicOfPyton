{
 "cells": [
  {
   "cell_type": "code",
   "execution_count": 13,
   "id": "5f6890b6-0b11-4970-a3ac-549ec84bedd8",
   "metadata": {},
   "outputs": [],
   "source": [
    "def parabens():\n",
    "    print(\" Parabens para voce\\n Nessa data querida! \")"
   ]
  },
  {
   "cell_type": "code",
   "execution_count": 14,
   "id": "6425c71e-d3bf-48ea-acbe-a212d9325806",
   "metadata": {},
   "outputs": [
    {
     "name": "stdout",
     "output_type": "stream",
     "text": [
      " Parabens para voce\n",
      " Nessa data querida! \n"
     ]
    }
   ],
   "source": [
    "parabens()"
   ]
  },
  {
   "cell_type": "code",
   "execution_count": 15,
   "id": "d9b97d48-686f-4911-9a04-b3980c24e670",
   "metadata": {},
   "outputs": [],
   "source": [
    "def temLetraU():\n",
    "    frase = input(\"Digite uma frase: \")\n",
    "    if 'u' in frase:\n",
    "        print('Voce utilizou leta U')\n",
    "    else:\n",
    "        print(\"Voce nao utilizou letra U\")\n",
    "\n"
   ]
  },
  {
   "cell_type": "code",
   "execution_count": 16,
   "id": "d380a332-4f09-419c-a6c3-9642d50eb7cb",
   "metadata": {},
   "outputs": [
    {
     "name": "stdin",
     "output_type": "stream",
     "text": [
      "Digite uma frase:  Eu nao tenho dinheiro \n"
     ]
    },
    {
     "name": "stdout",
     "output_type": "stream",
     "text": [
      "Voce utilizou leta U\n"
     ]
    }
   ],
   "source": [
    "temLetraU()"
   ]
  },
  {
   "cell_type": "code",
   "execution_count": 19,
   "id": "3ec527bc-ed16-40cc-889c-a45029aa7b65",
   "metadata": {},
   "outputs": [],
   "source": [
    "def somaQuadrados(a,b):\n",
    "    somaQ = a**2 + b**2\n",
    "    return somaQ\n",
    "\n",
    "\n"
   ]
  },
  {
   "cell_type": "code",
   "execution_count": 20,
   "id": "8d30449a-775e-44b5-b93c-9c6e899593c5",
   "metadata": {},
   "outputs": [
    {
     "data": {
      "text/plain": [
       "13"
      ]
     },
     "execution_count": 20,
     "metadata": {},
     "output_type": "execute_result"
    }
   ],
   "source": [
    "somaQuadrados(2,3)"
   ]
  },
  {
   "cell_type": "code",
   "execution_count": null,
   "id": "b395f203-59fb-494c-8f7e-5348b9601785",
   "metadata": {},
   "outputs": [],
   "source": []
  }
 ],
 "metadata": {
  "kernelspec": {
   "display_name": "Python 3 (ipykernel)",
   "language": "python",
   "name": "python3"
  },
  "language_info": {
   "codemirror_mode": {
    "name": "ipython",
    "version": 3
   },
   "file_extension": ".py",
   "mimetype": "text/x-python",
   "name": "python",
   "nbconvert_exporter": "python",
   "pygments_lexer": "ipython3",
   "version": "3.12.7"
  }
 },
 "nbformat": 4,
 "nbformat_minor": 5
}
