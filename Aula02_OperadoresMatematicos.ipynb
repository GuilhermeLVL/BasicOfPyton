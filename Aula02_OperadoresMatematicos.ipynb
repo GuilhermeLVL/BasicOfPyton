{
 "cells": [
  {
   "cell_type": "code",
   "execution_count": 3,
   "id": "8af882c2-6148-4244-b733-4b0ace98e00c",
   "metadata": {},
   "outputs": [
    {
     "name": "stdout",
     "output_type": "stream",
     "text": [
      "5\n",
      "25\n",
      "5.666666666666667\n",
      "8\n",
      "2\n",
      "1\n"
     ]
    }
   ],
   "source": [
    "print(10-5)\n",
    "print(5*5)\n",
    "print(17/3)\n",
    "print(2**3)\n",
    "print(5//2)\n",
    "print(5%2)"
   ]
  },
  {
   "cell_type": "code",
   "execution_count": null,
   "id": "0e1acae1-32f5-4a83-bcef-2e30136e855c",
   "metadata": {},
   "outputs": [],
   "source": []
  }
 ],
 "metadata": {
  "kernelspec": {
   "display_name": "Python 3 (ipykernel)",
   "language": "python",
   "name": "python3"
  },
  "language_info": {
   "codemirror_mode": {
    "name": "ipython",
    "version": 3
   },
   "file_extension": ".py",
   "mimetype": "text/x-python",
   "name": "python",
   "nbconvert_exporter": "python",
   "pygments_lexer": "ipython3",
   "version": "3.12.7"
  }
 },
 "nbformat": 4,
 "nbformat_minor": 5
}
