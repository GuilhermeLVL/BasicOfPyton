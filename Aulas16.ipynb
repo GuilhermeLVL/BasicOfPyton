{
 "cells": [
  {
   "cell_type": "code",
   "execution_count": 25,
   "id": "d27a4a83-cb93-4328-bfbf-af975c9a1930",
   "metadata": {},
   "outputs": [],
   "source": [
    "import pandas as pd\n",
    "alunosDIC = {'Nome': [\"Guilherme\",\"Amanda\",\"Pedro\",\"Caio\",],\n",
    "            \"Nota\": [3,4,5.5,9],\n",
    "            \"Aprovado\":[\"Nao\",\"Nao\",\"Sim\",\"Sim\"]}"
   ]
  },
  {
   "cell_type": "code",
   "execution_count": 26,
   "id": "347b0169-a656-4c7c-8cd3-fdb4a759c3d0",
   "metadata": {},
   "outputs": [],
   "source": [
    "alunosDF = pd.DataFrame(alunosDIC)"
   ]
  },
  {
   "cell_type": "code",
   "execution_count": 27,
   "id": "6db29eee-463d-410e-8e8e-18bb65618b25",
   "metadata": {},
   "outputs": [
    {
     "name": "stdout",
     "output_type": "stream",
     "text": [
      "        Nome  Nota Aprovado\n",
      "0  Guilherme   3.0      Nao\n",
      "1     Amanda   4.0      Nao\n",
      "2      Pedro   5.5      Sim\n",
      "3       Caio   9.0      Sim\n"
     ]
    }
   ],
   "source": [
    "print(alunosDF) "
   ]
  },
  {
   "cell_type": "code",
   "execution_count": 28,
   "id": "b9aba97b-cb2e-4caa-bb13-128946136549",
   "metadata": {},
   "outputs": [
    {
     "data": {
      "text/plain": [
       "0    Guilherme\n",
       "1       Amanda\n",
       "2        Pedro\n",
       "3         Caio\n",
       "Name: Nome, dtype: object"
      ]
     },
     "execution_count": 28,
     "metadata": {},
     "output_type": "execute_result"
    }
   ],
   "source": [
    "#Imprimindo todos os dado de determinada coluna\n",
    "\n",
    "alunosDF[\"Nome\"]"
   ]
  },
  {
   "cell_type": "code",
   "execution_count": 29,
   "id": "88e942bb-deba-4e59-a324-59c585dcc189",
   "metadata": {},
   "outputs": [
    {
     "data": {
      "text/html": [
       "<div>\n",
       "<style scoped>\n",
       "    .dataframe tbody tr th:only-of-type {\n",
       "        vertical-align: middle;\n",
       "    }\n",
       "\n",
       "    .dataframe tbody tr th {\n",
       "        vertical-align: top;\n",
       "    }\n",
       "\n",
       "    .dataframe thead th {\n",
       "        text-align: right;\n",
       "    }\n",
       "</style>\n",
       "<table border=\"1\" class=\"dataframe\">\n",
       "  <thead>\n",
       "    <tr style=\"text-align: right;\">\n",
       "      <th></th>\n",
       "      <th>Nome</th>\n",
       "      <th>Nota</th>\n",
       "      <th>Aprovado</th>\n",
       "    </tr>\n",
       "  </thead>\n",
       "  <tbody>\n",
       "    <tr>\n",
       "      <th>0</th>\n",
       "      <td>Guilherme</td>\n",
       "      <td>3.0</td>\n",
       "      <td>Nao</td>\n",
       "    </tr>\n",
       "  </tbody>\n",
       "</table>\n",
       "</div>"
      ],
      "text/plain": [
       "        Nome  Nota Aprovado\n",
       "0  Guilherme   3.0      Nao"
      ]
     },
     "execution_count": 29,
     "metadata": {},
     "output_type": "execute_result"
    }
   ],
   "source": [
    "#Todos os dados de uma linha passando o indice\n",
    "alunosDF.loc[[0]]\n",
    "\n"
   ]
  },
  {
   "cell_type": "code",
   "execution_count": 30,
   "id": "1ce282c0-6299-4605-94e8-4207a8f7248f",
   "metadata": {},
   "outputs": [
    {
     "data": {
      "text/html": [
       "<div>\n",
       "<style scoped>\n",
       "    .dataframe tbody tr th:only-of-type {\n",
       "        vertical-align: middle;\n",
       "    }\n",
       "\n",
       "    .dataframe tbody tr th {\n",
       "        vertical-align: top;\n",
       "    }\n",
       "\n",
       "    .dataframe thead th {\n",
       "        text-align: right;\n",
       "    }\n",
       "</style>\n",
       "<table border=\"1\" class=\"dataframe\">\n",
       "  <thead>\n",
       "    <tr style=\"text-align: right;\">\n",
       "      <th></th>\n",
       "      <th>Nome</th>\n",
       "      <th>Nota</th>\n",
       "      <th>Aprovado</th>\n",
       "    </tr>\n",
       "  </thead>\n",
       "  <tbody>\n",
       "    <tr>\n",
       "      <th>0</th>\n",
       "      <td>Guilherme</td>\n",
       "      <td>3.0</td>\n",
       "      <td>Nao</td>\n",
       "    </tr>\n",
       "    <tr>\n",
       "      <th>2</th>\n",
       "      <td>Pedro</td>\n",
       "      <td>5.5</td>\n",
       "      <td>Sim</td>\n",
       "    </tr>\n",
       "    <tr>\n",
       "      <th>3</th>\n",
       "      <td>Caio</td>\n",
       "      <td>9.0</td>\n",
       "      <td>Sim</td>\n",
       "    </tr>\n",
       "  </tbody>\n",
       "</table>\n",
       "</div>"
      ],
      "text/plain": [
       "        Nome  Nota Aprovado\n",
       "0  Guilherme   3.0      Nao\n",
       "2      Pedro   5.5      Sim\n",
       "3       Caio   9.0      Sim"
      ]
     },
     "execution_count": 30,
     "metadata": {},
     "output_type": "execute_result"
    }
   ],
   "source": [
    "\n",
    "#Todos os dados de determinadas linhas passando o indice\n",
    "alunosDF.loc[[0, 2, 3]]\n"
   ]
  },
  {
   "cell_type": "code",
   "execution_count": 38,
   "id": "65a5df6c-78bf-4dc4-8656-47963c4977ca",
   "metadata": {},
   "outputs": [
    {
     "data": {
      "text/html": [
       "<div>\n",
       "<style scoped>\n",
       "    .dataframe tbody tr th:only-of-type {\n",
       "        vertical-align: middle;\n",
       "    }\n",
       "\n",
       "    .dataframe tbody tr th {\n",
       "        vertical-align: top;\n",
       "    }\n",
       "\n",
       "    .dataframe thead th {\n",
       "        text-align: right;\n",
       "    }\n",
       "</style>\n",
       "<table border=\"1\" class=\"dataframe\">\n",
       "  <thead>\n",
       "    <tr style=\"text-align: right;\">\n",
       "      <th></th>\n",
       "      <th>Nome</th>\n",
       "      <th>Nota</th>\n",
       "      <th>Aprovado</th>\n",
       "    </tr>\n",
       "  </thead>\n",
       "  <tbody>\n",
       "    <tr>\n",
       "      <th>0</th>\n",
       "      <td>Guilherme</td>\n",
       "      <td>3.0</td>\n",
       "      <td>Nao</td>\n",
       "    </tr>\n",
       "    <tr>\n",
       "      <th>1</th>\n",
       "      <td>Amanda</td>\n",
       "      <td>4.0</td>\n",
       "      <td>Nao</td>\n",
       "    </tr>\n",
       "    <tr>\n",
       "      <th>2</th>\n",
       "      <td>Pedro</td>\n",
       "      <td>5.5</td>\n",
       "      <td>Sim</td>\n",
       "    </tr>\n",
       "  </tbody>\n",
       "</table>\n",
       "</div>"
      ],
      "text/plain": [
       "        Nome  Nota Aprovado\n",
       "0  Guilherme   3.0      Nao\n",
       "1     Amanda   4.0      Nao\n",
       "2      Pedro   5.5      Sim"
      ]
     },
     "execution_count": 38,
     "metadata": {},
     "output_type": "execute_result"
    }
   ],
   "source": [
    "#Exibindo todos os itens do indice 0 ao 2 \n",
    "alunosDF.loc[0:2]"
   ]
  },
  {
   "cell_type": "code",
   "execution_count": 44,
   "id": "ecf87af3-9022-445f-8351-9e2c96979123",
   "metadata": {},
   "outputs": [
    {
     "data": {
      "text/html": [
       "<div>\n",
       "<style scoped>\n",
       "    .dataframe tbody tr th:only-of-type {\n",
       "        vertical-align: middle;\n",
       "    }\n",
       "\n",
       "    .dataframe tbody tr th {\n",
       "        vertical-align: top;\n",
       "    }\n",
       "\n",
       "    .dataframe thead th {\n",
       "        text-align: right;\n",
       "    }\n",
       "</style>\n",
       "<table border=\"1\" class=\"dataframe\">\n",
       "  <thead>\n",
       "    <tr style=\"text-align: right;\">\n",
       "      <th></th>\n",
       "      <th>Nome</th>\n",
       "      <th>Nota</th>\n",
       "      <th>Aprovado</th>\n",
       "    </tr>\n",
       "  </thead>\n",
       "  <tbody>\n",
       "    <tr>\n",
       "      <th>0</th>\n",
       "      <td>Guilherme</td>\n",
       "      <td>3.0</td>\n",
       "      <td>Nao</td>\n",
       "    </tr>\n",
       "  </tbody>\n",
       "</table>\n",
       "</div>"
      ],
      "text/plain": [
       "        Nome  Nota Aprovado\n",
       "0  Guilherme   3.0      Nao"
      ]
     },
     "execution_count": 44,
     "metadata": {},
     "output_type": "execute_result"
    }
   ],
   "source": [
    "alunosDF.loc[alunosDF['Nome']=='Guilherme']"
   ]
  },
  {
   "cell_type": "code",
   "execution_count": 46,
   "id": "ddd7788d-1773-499a-9d50-356cc694357c",
   "metadata": {},
   "outputs": [],
   "source": [
    "primeirasLinhas = alunosDF.loc[0:2]"
   ]
  },
  {
   "cell_type": "code",
   "execution_count": 48,
   "id": "194157ce-8c73-4563-8c38-cc8ec057143f",
   "metadata": {},
   "outputs": [
    {
     "name": "stdout",
     "output_type": "stream",
     "text": [
      "        Nome  Nota Aprovado\n",
      "0  Guilherme   3.0      Nao\n",
      "1     Amanda   4.0      Nao\n",
      "2      Pedro   5.5      Sim\n"
     ]
    }
   ],
   "source": [
    "print(primeirasLinhas)\n"
   ]
  },
  {
   "cell_type": "code",
   "execution_count": 54,
   "id": "40e1512c-70b3-4f93-a369-1f6d81fce6c9",
   "metadata": {},
   "outputs": [],
   "source": [
    "novoDF = alunosDF[alunosDF[\"Nota\"]!= 9]"
   ]
  },
  {
   "cell_type": "code",
   "execution_count": 56,
   "id": "133d1622-2cbc-490c-8170-8cdb08ffcb8d",
   "metadata": {},
   "outputs": [
    {
     "name": "stdout",
     "output_type": "stream",
     "text": [
      "        Nome  Nota Aprovado\n",
      "0  Guilherme   3.0      Nao\n",
      "1     Amanda   4.0      Nao\n",
      "2      Pedro   5.5      Sim\n"
     ]
    }
   ],
   "source": [
    "print(novoDF)"
   ]
  },
  {
   "cell_type": "code",
   "execution_count": 60,
   "id": "91961688-ed3b-46ed-9379-5a1771ad25f6",
   "metadata": {},
   "outputs": [],
   "source": [
    "alunosReprovados = alunosDF.loc[alunosDF[\"Aprovado\"]!= \"Sim\"]"
   ]
  },
  {
   "cell_type": "code",
   "execution_count": 62,
   "id": "f4d7ac85-f285-4e03-9163-f6dc50b07e5d",
   "metadata": {},
   "outputs": [
    {
     "name": "stdout",
     "output_type": "stream",
     "text": [
      "        Nome  Nota Aprovado\n",
      "0  Guilherme   3.0      Nao\n",
      "1     Amanda   4.0      Nao\n"
     ]
    }
   ],
   "source": [
    "print(alunosReprovados)"
   ]
  },
  {
   "cell_type": "code",
   "execution_count": null,
   "id": "541af346-5f40-4653-b914-0c70a1a17f1c",
   "metadata": {},
   "outputs": [],
   "source": []
  }
 ],
 "metadata": {
  "kernelspec": {
   "display_name": "Python [conda env:base] *",
   "language": "python",
   "name": "conda-base-py"
  },
  "language_info": {
   "codemirror_mode": {
    "name": "ipython",
    "version": 3
   },
   "file_extension": ".py",
   "mimetype": "text/x-python",
   "name": "python",
   "nbconvert_exporter": "python",
   "pygments_lexer": "ipython3",
   "version": "3.12.7"
  }
 },
 "nbformat": 4,
 "nbformat_minor": 5
}
