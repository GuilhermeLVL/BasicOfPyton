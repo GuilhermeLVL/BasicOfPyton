{
 "cells": [
  {
   "cell_type": "code",
   "execution_count": 6,
   "id": "87f4a3b4-29f7-4ce9-bba2-59376a0b1173",
   "metadata": {},
   "outputs": [
    {
     "name": "stdout",
     "output_type": "stream",
     "text": [
      "Ainda nao deu\n",
      "Ainda nao deu\n",
      "Ainda nao deu\n",
      "Ainda nao deu\n",
      "Ainda nao deu\n",
      "Ainda nao deu\n",
      "Agora deu!\n"
     ]
    }
   ],
   "source": [
    "import time \n",
    "\n",
    "contador = 0\n",
    "while contador < 10:\n",
    "    print(\"Ainda nao deu\")\n",
    "    contador = contador + 1\n",
    "    time.sleep(1)\n",
    "    if contador == 6:\n",
    "        break\n",
    "print(\"Agora deu!\")\n"
   ]
  },
  {
   "cell_type": "code",
   "execution_count": 50,
   "id": "53dd5e0c-9992-49cf-90c0-f0f1a7324c85",
   "metadata": {},
   "outputs": [
    {
     "name": "stdin",
     "output_type": "stream",
     "text": [
      "Informe um número:  5\n"
     ]
    },
    {
     "name": "stdout",
     "output_type": "stream",
     "text": [
      "Cálculo do fatorial de 5:\n",
      "5 * 4 = 20\n",
      "20 * 3 = 60\n",
      "60 * 2 = 120\n",
      "O fatorial de 5 é 120.\n"
     ]
    }
   ],
   "source": [
    "# Calculando Fatorial\n",
    "\n",
    "numero = int(input(\"Informe um número: \")) \n",
    "\n",
    "if numero < 0:\n",
    "    print(\"Não é possível calcular o fatorial de um número negativo.\")\n",
    "elif numero == 0 or numero == 1:\n",
    "    print(f\"O fatorial de {numero} é 1.\")\n",
    "else:\n",
    "    fatorial = numero\n",
    "    contador = 1 \n",
    "\n",
    "    print(f\"Cálculo do fatorial de {numero}:\")\n",
    "\n",
    "    while (numero - contador) > 1:\n",
    "        print(f\"{fatorial} * {numero - contador} = \", end=\"\")\n",
    "        fatorial = fatorial * (numero - contador)\n",
    "        print(f\"{fatorial}\")\n",
    "        contador += 1\n",
    "\n",
    "    print(f\"O fatorial de {numero} é {fatorial}.\")\n"
   ]
  }
 ],
 "metadata": {
  "kernelspec": {
   "display_name": "Python 3 (ipykernel)",
   "language": "python",
   "name": "python3"
  },
  "language_info": {
   "codemirror_mode": {
    "name": "ipython",
    "version": 3
   },
   "file_extension": ".py",
   "mimetype": "text/x-python",
   "name": "python",
   "nbconvert_exporter": "python",
   "pygments_lexer": "ipython3",
   "version": "3.12.7"
  }
 },
 "nbformat": 4,
 "nbformat_minor": 5
}
