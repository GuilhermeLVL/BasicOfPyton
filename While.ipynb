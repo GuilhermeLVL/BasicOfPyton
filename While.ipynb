{
 "cells": [
  {
   "cell_type": "code",
   "execution_count": 6,
   "id": "87f4a3b4-29f7-4ce9-bba2-59376a0b1173",
   "metadata": {},
   "outputs": [
    {
     "name": "stdout",
     "output_type": "stream",
     "text": [
      "Ainda nao deu\n",
      "Ainda nao deu\n",
      "Ainda nao deu\n",
      "Ainda nao deu\n",
      "Ainda nao deu\n",
      "Ainda nao deu\n",
      "Agora deu!\n"
     ]
    }
   ],
   "source": [
    "import time \n",
    "\n",
    "contador = 0\n",
    "while contador < 10:\n",
    "    print(\"Ainda nao deu\")\n",
    "    contador = contador + 1\n",
    "    time.sleep(1)\n",
    "    if contador == 6:\n",
    "        break\n",
    "print(\"Agora deu!\")\n"
   ]
  },
  {
   "cell_type": "code",
   "execution_count": 49,
   "id": "53dd5e0c-9992-49cf-90c0-f0f1a7324c85",
   "metadata": {},
   "outputs": [
    {
     "name": "stdin",
     "output_type": "stream",
     "text": [
      "Informe um numero: 5\n"
     ]
    },
    {
     "name": "stdout",
     "output_type": "stream",
     "text": [
      "20 * 2 = 20\n",
      "60 * 3 = 60\n",
      "120 * 4 = 120\n"
     ]
    }
   ],
   "source": [
    "#Calculando Fatorial\n",
    "\n",
    "numero = int(input(\"Informe um numero:\")) \n",
    "fatorial= numero\n",
    "contador = 1 \n",
    "while (numero - contador)>1:\n",
    "    fatorial = fatorial*(numero-contador)\n",
    "    contador += 1\n",
    "    print('{0} * {1} = {2}'.format(fatorial,contador,fatorial))"
   ]
  },
  {
   "cell_type": "code",
   "execution_count": null,
   "id": "f84ee653-5c7b-4d77-8ef5-314d50008551",
   "metadata": {},
   "outputs": [],
   "source": []
  },
  {
   "cell_type": "code",
   "execution_count": null,
   "id": "ec33a75a-f5bd-4ca5-a0e1-5a38d22fcda1",
   "metadata": {},
   "outputs": [],
   "source": []
  }
 ],
 "metadata": {
  "kernelspec": {
   "display_name": "Python 3 (ipykernel)",
   "language": "python",
   "name": "python3"
  },
  "language_info": {
   "codemirror_mode": {
    "name": "ipython",
    "version": 3
   },
   "file_extension": ".py",
   "mimetype": "text/x-python",
   "name": "python",
   "nbconvert_exporter": "python",
   "pygments_lexer": "ipython3",
   "version": "3.12.7"
  }
 },
 "nbformat": 4,
 "nbformat_minor": 5
}
