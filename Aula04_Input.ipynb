{
 "cells": [
  {
   "cell_type": "code",
   "execution_count": 7,
   "id": "af4f0321-d885-4c15-bda6-524704aedc8e",
   "metadata": {},
   "outputs": [
    {
     "name": "stdin",
     "output_type": "stream",
     "text": [
      "Qual seu nome? Guilherme\n"
     ]
    }
   ],
   "source": [
    "nome = input('Qual seu nome?')\n"
   ]
  },
  {
   "cell_type": "code",
   "execution_count": 8,
   "id": "2da0840e-7fa0-47a7-969e-9983c6854ee4",
   "metadata": {},
   "outputs": [
    {
     "name": "stdout",
     "output_type": "stream",
     "text": [
      "Guilherme\n"
     ]
    }
   ],
   "source": [
    "print(nome)"
   ]
  },
  {
   "cell_type": "code",
   "execution_count": 9,
   "id": "2359d907-6bd7-457a-934d-0fd5e2f10fae",
   "metadata": {},
   "outputs": [
    {
     "name": "stdin",
     "output_type": "stream",
     "text": [
      "Qual sua idada? 22\n"
     ]
    }
   ],
   "source": [
    "idade = int(input('Qual sua idada?'))\n"
   ]
  },
  {
   "cell_type": "code",
   "execution_count": 10,
   "id": "18b1baba-fb96-4bba-8464-58ac9e205d53",
   "metadata": {},
   "outputs": [
    {
     "name": "stdout",
     "output_type": "stream",
     "text": [
      "22\n"
     ]
    }
   ],
   "source": [
    "print(idade )"
   ]
  },
  {
   "cell_type": "code",
   "execution_count": 11,
   "id": "aa09e01c-956b-45cf-a2f8-94532fd09535",
   "metadata": {},
   "outputs": [
    {
     "data": {
      "text/plain": [
       "int"
      ]
     },
     "execution_count": 11,
     "metadata": {},
     "output_type": "execute_result"
    }
   ],
   "source": [
    "type(idade)"
   ]
  },
  {
   "cell_type": "code",
   "execution_count": 12,
   "id": "457f9bbb-6bbe-4f7a-afe5-48f5d32ce3fb",
   "metadata": {},
   "outputs": [
    {
     "name": "stdout",
     "output_type": "stream",
     "text": [
      "44\n"
     ]
    }
   ],
   "source": [
    "print(idade * 2)"
   ]
  },
  {
   "cell_type": "code",
   "execution_count": 13,
   "id": "ed9fd58d-d55b-402a-8dad-708c47f534d2",
   "metadata": {},
   "outputs": [
    {
     "name": "stdin",
     "output_type": "stream",
     "text": [
      "Qual sua altura? 1.80\n"
     ]
    }
   ],
   "source": [
    "altura = float(input('Qual sua altura?'))\n"
   ]
  },
  {
   "cell_type": "code",
   "execution_count": 14,
   "id": "4f09d6f3-0b72-495a-949e-ec86acf1ef0c",
   "metadata": {},
   "outputs": [
    {
     "name": "stdout",
     "output_type": "stream",
     "text": [
      "1.8\n"
     ]
    }
   ],
   "source": [
    "print(altura)"
   ]
  },
  {
   "cell_type": "code",
   "execution_count": null,
   "id": "742e1115-60c3-41d9-9ed5-87d4aab410e6",
   "metadata": {},
   "outputs": [],
   "source": []
  }
 ],
 "metadata": {
  "kernelspec": {
   "display_name": "Python 3 (ipykernel)",
   "language": "python",
   "name": "python3"
  },
  "language_info": {
   "codemirror_mode": {
    "name": "ipython",
    "version": 3
   },
   "file_extension": ".py",
   "mimetype": "text/x-python",
   "name": "python",
   "nbconvert_exporter": "python",
   "pygments_lexer": "ipython3",
   "version": "3.12.7"
  }
 },
 "nbformat": 4,
 "nbformat_minor": 5
}
