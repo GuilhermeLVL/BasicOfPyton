{
 "cells": [
  {
   "cell_type": "code",
   "execution_count": 5,
   "id": "74b5ff89-de54-425e-a11f-af7b7fc427f1",
   "metadata": {},
   "outputs": [
    {
     "name": "stdout",
     "output_type": "stream",
     "text": [
      "12\n",
      "9\n"
     ]
    }
   ],
   "source": [
    "#Passando valor para variavel\n",
    "a = 5\n",
    "\n",
    "#Verificando se o valor é igual ou nao\n",
    "a == 5\n",
    "\n",
    "b = 7\n",
    "\n",
    "c = a+b \n",
    "\n",
    "print(c)\n",
    "\n",
    "variavel1 = 3\n",
    "variacel2 = 2\n",
    "variavel1 = 9\n",
    "\n",
    "print(variavel1)\n"
   ]
  },
  {
   "cell_type": "code",
   "execution_count": 8,
   "id": "379ea19b-e1b8-4ce3-be02-df600f3d2293",
   "metadata": {},
   "outputs": [
    {
     "data": {
      "text/plain": [
       "str"
      ]
     },
     "execution_count": 8,
     "metadata": {},
     "output_type": "execute_result"
    }
   ],
   "source": [
    "\n",
    "var = 4\n",
    "var2 =3.5\n",
    "palavra = \"Frase 1 \"\n",
    "\n",
    "type(var)\n",
    "type(var2)\n",
    "type(palavra)\n"
   ]
  },
  {
   "cell_type": "code",
   "execution_count": 9,
   "id": "61947cbc-01ca-4343-8438-3ad5df814a22",
   "metadata": {},
   "outputs": [
    {
     "name": "stdout",
     "output_type": "stream",
     "text": [
      "7.5\n"
     ]
    }
   ],
   "source": [
    "print(var + var2)"
   ]
  },
  {
   "cell_type": "code",
   "execution_count": 10,
   "id": "f94cae43-4c5d-4496-b868-6d06a7f4039d",
   "metadata": {},
   "outputs": [
    {
     "ename": "TypeError",
     "evalue": "unsupported operand type(s) for +: 'int' and 'str'",
     "output_type": "error",
     "traceback": [
      "\u001b[1;31m---------------------------------------------------------------------------\u001b[0m",
      "\u001b[1;31mTypeError\u001b[0m                                 Traceback (most recent call last)",
      "Cell \u001b[1;32mIn[10], line 1\u001b[0m\n\u001b[1;32m----> 1\u001b[0m \u001b[38;5;28mprint\u001b[39m (var \u001b[38;5;241m+\u001b[39m palavra)\n",
      "\u001b[1;31mTypeError\u001b[0m: unsupported operand type(s) for +: 'int' and 'str'"
     ]
    }
   ],
   "source": [
    "print (var + palavra)"
   ]
  }
 ],
 "metadata": {
  "kernelspec": {
   "display_name": "Python 3 (ipykernel)",
   "language": "python",
   "name": "python3"
  },
  "language_info": {
   "codemirror_mode": {
    "name": "ipython",
    "version": 3
   },
   "file_extension": ".py",
   "mimetype": "text/x-python",
   "name": "python",
   "nbconvert_exporter": "python",
   "pygments_lexer": "ipython3",
   "version": "3.12.7"
  }
 },
 "nbformat": 4,
 "nbformat_minor": 5
}
