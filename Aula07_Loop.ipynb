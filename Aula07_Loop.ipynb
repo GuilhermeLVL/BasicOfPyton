{
 "cells": [
  {
   "cell_type": "code",
   "execution_count": 25,
   "id": "d63876fb-e81e-47d8-a5d9-c765e2886624",
   "metadata": {},
   "outputs": [
    {
     "name": "stdout",
     "output_type": "stream",
     "text": [
      "1\n",
      "2\n",
      "3\n",
      "4\n",
      "5\n",
      "6\n",
      "7\n",
      "8\n",
      "9\n",
      "10\n",
      "Cabou o Loop!\n"
     ]
    }
   ],
   "source": [
    "a = 0\n",
    "b = 10\n",
    "\n",
    "for i in range(b):\n",
    "    a= a + 1\n",
    "    print(a)\n",
    "print(\"Cabou o Loop!\")\n"
   ]
  },
  {
   "cell_type": "code",
   "execution_count": 32,
   "id": "f68d6383-18a1-41a8-a858-5a604145d297",
   "metadata": {
    "scrolled": true
   },
   "outputs": [
    {
     "name": "stdout",
     "output_type": "stream",
     "text": [
      "M\n",
      "a\n",
      "t\n",
      "e\n",
      "m\n",
      "a\n",
      "t\n",
      "i\n",
      "c\n",
      "a\n"
     ]
    }
   ],
   "source": [
    "palavra = \"Matematica\"\n",
    "for i in palavra:\n",
    "    print(i)"
   ]
  },
  {
   "cell_type": "code",
   "execution_count": 35,
   "id": "f25f7ed3-6d0c-45da-a2d1-6aa1b61e1052",
   "metadata": {},
   "outputs": [
    {
     "name": "stdout",
     "output_type": "stream",
     "text": [
      "2\n",
      "54\n",
      "8\n",
      "10\n",
      "4\n",
      "4\n"
     ]
    }
   ],
   "source": [
    "lista = [2,54,8,10,4,4]\n",
    "\n",
    "for i in lista:\n",
    "    print(i)"
   ]
  },
  {
   "cell_type": "code",
   "execution_count": null,
   "id": "d7123729-3858-4a52-8bd7-0e5fc83ffd6f",
   "metadata": {},
   "outputs": [],
   "source": []
  }
 ],
 "metadata": {
  "kernelspec": {
   "display_name": "Python 3 (ipykernel)",
   "language": "python",
   "name": "python3"
  },
  "language_info": {
   "codemirror_mode": {
    "name": "ipython",
    "version": 3
   },
   "file_extension": ".py",
   "mimetype": "text/x-python",
   "name": "python",
   "nbconvert_exporter": "python",
   "pygments_lexer": "ipython3",
   "version": "3.12.7"
  }
 },
 "nbformat": 4,
 "nbformat_minor": 5
}
