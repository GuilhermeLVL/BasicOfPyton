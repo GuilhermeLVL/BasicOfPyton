{
 "cells": [
  {
   "cell_type": "code",
   "execution_count": 1,
   "id": "04cb5225-484f-448d-9f3a-3d156b3fe11a",
   "metadata": {},
   "outputs": [],
   "source": [
    "import pandas as pd \n",
    "alunos = {'Nome':['Guilherme','Amanda','Pedro','Carlos','Bianca'],\n",
    "         'Nota':[4,6.5,7,8,3.5],\n",
    "          'Aprovado':['Nao','Sim','Sim','Sim','Nao',]\n",
    "         }"
   ]
  },
  {
   "cell_type": "code",
   "execution_count": 3,
   "id": "0be0eece-24bf-4b0e-b0d6-3013f4b7c134",
   "metadata": {},
   "outputs": [],
   "source": [
    "dataFrame = pd.DataFrame(alunos)"
   ]
  },
  {
   "cell_type": "code",
   "execution_count": 7,
   "id": "d0e84e01-91cd-4afc-92ae-cc29765f5f62",
   "metadata": {},
   "outputs": [
    {
     "name": "stdout",
     "output_type": "stream",
     "text": [
      "        Nome  Nota Aprovado\n",
      "0  Guilherme   4.0      Nao\n",
      "1     Amanda   6.5      Sim\n",
      "2      Pedro   7.0      Sim\n",
      "3     Carlos   8.0      Sim\n",
      "4     Bianca   3.5      Nao\n"
     ]
    }
   ],
   "source": [
    "print(dataFrame)"
   ]
  },
  {
   "cell_type": "code",
   "execution_count": 9,
   "id": "759311bd-6634-4b83-99b4-92a1d2fa3d37",
   "metadata": {},
   "outputs": [
    {
     "name": "stdout",
     "output_type": "stream",
     "text": [
      "0    2\n",
      "1    6\n",
      "2    3\n",
      "3    7\n",
      "4    8\n",
      "dtype: int64\n"
     ]
    }
   ],
   "source": [
    "objeto = pd.Series([2,6,3,7,8])\n",
    "print(objeto)"
   ]
  },
  {
   "cell_type": "code",
   "execution_count": 19,
   "id": "f97c41cb-c130-4bb7-b48d-851e6afbed5b",
   "metadata": {},
   "outputs": [
    {
     "name": "stdout",
     "output_type": "stream",
     "text": [
      "[2 6 3 7 8]\n",
      "[[2 6 3 7 8]\n",
      " [2 6 3 7 8]]\n"
     ]
    }
   ],
   "source": [
    "import numpy as np\n",
    "\n",
    "#Array uni dimensional \n",
    "array1 = np.array([2,6,3,7,8])\n",
    "print(array1)\n",
    "\n",
    "#Array de deuas dimensoes\n",
    "array2 = np.array([(2,6,3,7,8),(2,6,3,7,8)])\n",
    "print(array2)"
   ]
  },
  {
   "cell_type": "code",
   "execution_count": 23,
   "id": "03d0f970-00f8-4761-804f-9a584c3e838f",
   "metadata": {},
   "outputs": [
    {
     "name": "stdout",
     "output_type": "stream",
     "text": [
      "0    2\n",
      "1    6\n",
      "2    3\n",
      "3    7\n",
      "4    8\n",
      "dtype: int32\n"
     ]
    }
   ],
   "source": [
    "objeto2 = pd.Series(array1)\n",
    "\n",
    "print(objeto2)\n",
    "\n"
   ]
  },
  {
   "cell_type": "code",
   "execution_count": null,
   "id": "0b26b34a-73d9-44b8-a359-f87946207f22",
   "metadata": {},
   "outputs": [],
   "source": []
  }
 ],
 "metadata": {
  "kernelspec": {
   "display_name": "Python [conda env:base] *",
   "language": "python",
   "name": "conda-base-py"
  },
  "language_info": {
   "codemirror_mode": {
    "name": "ipython",
    "version": 3
   },
   "file_extension": ".py",
   "mimetype": "text/x-python",
   "name": "python",
   "nbconvert_exporter": "python",
   "pygments_lexer": "ipython3",
   "version": "3.12.7"
  }
 },
 "nbformat": 4,
 "nbformat_minor": 5
}
