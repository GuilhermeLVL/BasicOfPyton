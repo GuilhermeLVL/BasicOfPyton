{
 "cells": [
  {
   "cell_type": "code",
   "execution_count": 2,
   "id": "54a9fa54-1b79-48bb-a7de-fb27054908c0",
   "metadata": {},
   "outputs": [
    {
     "name": "stdout",
     "output_type": "stream",
     "text": [
      "Ola, Mundo!\n"
     ]
    }
   ],
   "source": [
    "print('Ola, Mundo!')"
   ]
  },
  {
   "cell_type": "code",
   "execution_count": 4,
   "id": "1430dbda-f76a-4b61-9c9c-546696b0de44",
   "metadata": {},
   "outputs": [
    {
     "name": "stdout",
     "output_type": "stream",
     "text": [
      "Meu nome é Guilherme Pinheiro de oliveira\n"
     ]
    }
   ],
   "source": [
    "print('Meu nome é Guilherme Pinheiro de oliveira')"
   ]
  },
  {
   "cell_type": "code",
   "execution_count": 10,
   "id": "f4082dc9-33dc-4b49-8058-f916681c77de",
   "metadata": {},
   "outputs": [
    {
     "name": "stdout",
     "output_type": "stream",
     "text": [
      "Concatencao de Strings   Ola! Mundo\n",
      "GG\n"
     ]
    }
   ],
   "source": [
    "print('Concatencao de Strings   Ola!'+ ' Mundo')\n",
    "print('GG')"
   ]
  },
  {
   "cell_type": "code",
   "execution_count": 13,
   "id": "eae673ba-13f0-4e0b-bad0-6809899d5675",
   "metadata": {},
   "outputs": [
    {
     "name": "stdout",
     "output_type": "stream",
     "text": [
      "Como fazer um comentario: Basta colocar um #\n"
     ]
    }
   ],
   "source": [
    "print('Como fazer um comentario: Basta colocar um #')\n",
    "\n",
    "#Simples assim, basta colocar um #"
   ]
  },
  {
   "cell_type": "code",
   "execution_count": 14,
   "id": "724239ff-c829-46a8-b55c-04b2a118224f",
   "metadata": {},
   "outputs": [
    {
     "name": "stdout",
     "output_type": "stream",
     "text": [
      "11\n"
     ]
    }
   ],
   "source": [
    "print(6+5)"
   ]
  },
  {
   "cell_type": "code",
   "execution_count": null,
   "id": "759866d5-d809-4ba4-8c7f-746531eff669",
   "metadata": {},
   "outputs": [],
   "source": []
  }
 ],
 "metadata": {
  "kernelspec": {
   "display_name": "Python 3 (ipykernel)",
   "language": "python",
   "name": "python3"
  },
  "language_info": {
   "codemirror_mode": {
    "name": "ipython",
    "version": 3
   },
   "file_extension": ".py",
   "mimetype": "text/x-python",
   "name": "python",
   "nbconvert_exporter": "python",
   "pygments_lexer": "ipython3",
   "version": "3.12.7"
  }
 },
 "nbformat": 4,
 "nbformat_minor": 5
}
