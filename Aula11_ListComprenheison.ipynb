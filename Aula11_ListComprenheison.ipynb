{
 "cells": [
  {
   "cell_type": "code",
   "execution_count": 29,
   "id": "48600fd9-58a8-47e8-a9aa-ad822d5f12dd",
   "metadata": {},
   "outputs": [],
   "source": [
    "kmh = [10,20,30,40,50,60,70,80,90,95,100]\n",
    "\n"
   ]
  },
  {
   "cell_type": "code",
   "execution_count": 30,
   "id": "cdd66eb6-2aa3-453e-84ee-2a80db422ed4",
   "metadata": {},
   "outputs": [
    {
     "name": "stdout",
     "output_type": "stream",
     "text": [
      "[6.211180124223602, 12.422360248447204, 18.633540372670808, 24.844720496894407, 31.05590062111801, 37.267080745341616, 43.47826086956521, 49.689440993788814, 55.90062111801242, 59.00621118012422, 62.11180124223602]\n"
     ]
    }
   ],
   "source": [
    "mph3 = [x / 1.61 for x in kmh]\n",
    "print(mph3)"
   ]
  },
  {
   "cell_type": "code",
   "execution_count": 38,
   "id": "e9dd799f-a235-4141-9fa9-0b579e5fcc8c",
   "metadata": {},
   "outputs": [],
   "source": [
    " caracteres = [i for i in 'Guilherme pinheiro']"
   ]
  },
  {
   "cell_type": "code",
   "execution_count": 40,
   "id": "7fb66336-29b6-43f4-9304-00e42a91215a",
   "metadata": {},
   "outputs": [
    {
     "name": "stdout",
     "output_type": "stream",
     "text": [
      "['G', 'u', 'i', 'l', 'h', 'e', 'r', 'm', 'e', ' ', 'p', 'i', 'n', 'h', 'e', 'i', 'r', 'o']\n"
     ]
    }
   ],
   "source": [
    "print (caracteres)"
   ]
  },
  {
   "cell_type": "code",
   "execution_count": null,
   "id": "da62957d-affc-4dc5-8263-87839c3694a4",
   "metadata": {},
   "outputs": [],
   "source": []
  },
  {
   "cell_type": "code",
   "execution_count": null,
   "id": "ef3b45e0-103d-4a4c-86f7-b28b13edd7d6",
   "metadata": {},
   "outputs": [],
   "source": []
  }
 ],
 "metadata": {
  "kernelspec": {
   "display_name": "Python [conda env:base] *",
   "language": "python",
   "name": "conda-base-py"
  },
  "language_info": {
   "codemirror_mode": {
    "name": "ipython",
    "version": 3
   },
   "file_extension": ".py",
   "mimetype": "text/x-python",
   "name": "python",
   "nbconvert_exporter": "python",
   "pygments_lexer": "ipython3",
   "version": "3.12.7"
  }
 },
 "nbformat": 4,
 "nbformat_minor": 5
}
