{
 "cells": [
  {
   "cell_type": "code",
   "execution_count": 1,
   "id": "09bcff7d-7dea-4075-99cf-dd34301cece9",
   "metadata": {},
   "outputs": [],
   "source": [
    "#Foma padrao de se declarar uma funcao:\n",
    "\n",
    "def somaQuadrados(a,b):\n",
    "    somaQ = a**2 + b**2\n",
    "    return somaQ\n"
   ]
  },
  {
   "cell_type": "code",
   "execution_count": 3,
   "id": "93e4a4eb-d144-4767-8412-843e36268663",
   "metadata": {},
   "outputs": [
    {
     "data": {
      "text/plain": [
       "104"
      ]
     },
     "execution_count": 3,
     "metadata": {},
     "output_type": "execute_result"
    }
   ],
   "source": [
    "somaQuadrados(10,2)"
   ]
  },
  {
   "cell_type": "code",
   "execution_count": 9,
   "id": "fdb6328f-2453-421a-8094-549ecca0dbc7",
   "metadata": {},
   "outputs": [],
   "source": [
    "#Declaracao de funcao LAMBDA\n",
    "somaQuadrados2 = lambda a,b: a**2 + b**2"
   ]
  },
  {
   "cell_type": "code",
   "execution_count": 11,
   "id": "d0a6fc09-f0e4-4255-b344-7e1345011f6d",
   "metadata": {},
   "outputs": [
    {
     "data": {
      "text/plain": [
       "116"
      ]
     },
     "execution_count": 11,
     "metadata": {},
     "output_type": "execute_result"
    }
   ],
   "source": [
    "somaQuadrados2(10,4)"
   ]
  },
  {
   "cell_type": "code",
   "execution_count": 13,
   "id": "0eda31fd-e9fd-4000-8cd1-8d8cc0600410",
   "metadata": {},
   "outputs": [],
   "source": [
    "#Exemplo de funcao lambda\n",
    "x = lambda f: f/2\n"
   ]
  },
  {
   "cell_type": "code",
   "execution_count": 15,
   "id": "46d3ac3b-deb9-40b0-9671-6a318266f321",
   "metadata": {},
   "outputs": [
    {
     "data": {
      "text/plain": [
       "3.0"
      ]
     },
     "execution_count": 15,
     "metadata": {},
     "output_type": "execute_result"
    }
   ],
   "source": [
    "x(6)"
   ]
  },
  {
   "cell_type": "code",
   "execution_count": null,
   "id": "cb91dc6d-edb8-4377-b24f-c63dfe59de90",
   "metadata": {},
   "outputs": [],
   "source": []
  }
 ],
 "metadata": {
  "kernelspec": {
   "display_name": "Python [conda env:base] *",
   "language": "python",
   "name": "conda-base-py"
  },
  "language_info": {
   "codemirror_mode": {
    "name": "ipython",
    "version": 3
   },
   "file_extension": ".py",
   "mimetype": "text/x-python",
   "name": "python",
   "nbconvert_exporter": "python",
   "pygments_lexer": "ipython3",
   "version": "3.12.7"
  }
 },
 "nbformat": 4,
 "nbformat_minor": 5
}
