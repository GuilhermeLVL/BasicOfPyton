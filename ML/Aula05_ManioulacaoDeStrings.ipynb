{
 "cells": [
  {
   "cell_type": "code",
   "execution_count": 7,
   "id": "af232bf9-5bb6-4c43-955e-134659e6a985",
   "metadata": {},
   "outputs": [
    {
     "data": {
      "text/plain": [
       "'tou '"
      ]
     },
     "execution_count": 7,
     "metadata": {},
     "output_type": "execute_result"
    }
   ],
   "source": [
    "#Escrevendo apenas o conteúdo referente ao indice\n",
    "frase = \"Estou gostando do curso\"\n",
    "frase[2]"
   ]
  },
  {
   "cell_type": "code",
   "execution_count": 9,
   "id": "ea18009e-6e5c-4653-ae8f-32a2aacf991d",
   "metadata": {},
   "outputs": [
    {
     "data": {
      "text/plain": [
       "'Estou '"
      ]
     },
     "execution_count": 9,
     "metadata": {},
     "output_type": "execute_result"
    }
   ],
   "source": [
    "#Escrevendo do indice 0 ao 6 da String\n",
    "frase[0:6]"
   ]
  },
  {
   "cell_type": "code",
   "execution_count": 11,
   "id": "99f93ed8-8c0f-4ffa-b47a-762ad4a8abd5",
   "metadata": {},
   "outputs": [
    {
     "data": {
      "text/plain": [
       "'gostando do curso'"
      ]
     },
     "execution_count": 11,
     "metadata": {},
     "output_type": "execute_result"
    }
   ],
   "source": [
    "#Escrevendo indice 6 ate o fim da String\n",
    "frase[6:]\n"
   ]
  },
  {
   "cell_type": "code",
   "execution_count": 13,
   "id": "9293243e-f59e-40d3-bdf2-6676bb14c06d",
   "metadata": {},
   "outputs": [
    {
     "data": {
      "text/plain": [
       "'Estou gostand'"
      ]
     },
     "execution_count": 13,
     "metadata": {},
     "output_type": "execute_result"
    }
   ],
   "source": [
    "#Escrevendo do comeco ate o indice 14 da String\n",
    "frase[:14]"
   ]
  },
  {
   "cell_type": "code",
   "execution_count": 15,
   "id": "b13739b7-373d-4e78-afec-ba906ea6b3fa",
   "metadata": {},
   "outputs": [
    {
     "data": {
      "text/plain": [
       "'t sn'"
      ]
     },
     "execution_count": 15,
     "metadata": {},
     "output_type": "execute_result"
    }
   ],
   "source": [
    "#Percorrendo do indice 2 ao 13 pulando de 3 em 3 caracteres\n",
    "frase[2:13:3]\n"
   ]
  },
  {
   "cell_type": "code",
   "execution_count": 17,
   "id": "cda59397-46a3-4628-9e70-9fb1e94ad91a",
   "metadata": {},
   "outputs": [
    {
     "data": {
      "text/plain": [
       "5"
      ]
     },
     "execution_count": 17,
     "metadata": {},
     "output_type": "execute_result"
    }
   ],
   "source": [
    "#Contabilizando o numero de ocorrencia de um determinado caracter\n",
    "frase.count(\"o\")"
   ]
  },
  {
   "cell_type": "code",
   "execution_count": 19,
   "id": "7925a79b-7973-4b74-917f-de326608cf7c",
   "metadata": {},
   "outputs": [
    {
     "data": {
      "text/plain": [
       "23"
      ]
     },
     "execution_count": 19,
     "metadata": {},
     "output_type": "execute_result"
    }
   ],
   "source": [
    "#Tamanho total da variavel   \"length\"\n",
    "len(frase)"
   ]
  },
  {
   "cell_type": "code",
   "execution_count": 21,
   "id": "c4bcf5fe-3e68-445e-9e82-9f4276290857",
   "metadata": {},
   "outputs": [
    {
     "data": {
      "text/plain": [
       "'Estou gostando do aprendizado'"
      ]
     },
     "execution_count": 21,
     "metadata": {},
     "output_type": "execute_result"
    }
   ],
   "source": [
    "#substituindo valores dentro da string\n",
    "frase.replace(\"curso\", \"aprendizado\")"
   ]
  },
  {
   "cell_type": "code",
   "execution_count": null,
   "id": "9b24e7bf-3fd1-4675-a48b-29bfa6fd8455",
   "metadata": {},
   "outputs": [],
   "source": []
  }
 ],
 "metadata": {
  "kernelspec": {
   "display_name": "Python [conda env:base] *",
   "language": "python",
   "name": "conda-base-py"
  },
  "language_info": {
   "codemirror_mode": {
    "name": "ipython",
    "version": 3
   },
   "file_extension": ".py",
   "mimetype": "text/x-python",
   "name": "python",
   "nbconvert_exporter": "python",
   "pygments_lexer": "ipython3",
   "version": "3.12.7"
  }
 },
 "nbformat": 4,
 "nbformat_minor": 5
}
