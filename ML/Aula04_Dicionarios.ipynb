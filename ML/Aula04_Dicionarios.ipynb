{
 "cells": [
  {
   "cell_type": "code",
   "execution_count": 13,
   "id": "273a1d0f-bbd2-4351-972e-b177c75eb3ca",
   "metadata": {},
   "outputs": [],
   "source": [
    "dicionario = {\n",
    "    \"Curso\":\"Python para ML\",\n",
    "    \"Produtor\":\"Didatica Tech\",\n",
    "    \"Preco\":\"Gratuito\",\n",
    "    \"Nota\":10,\n",
    "    \"Aluno\":\"Guilherme P\"\n",
    "             }"
   ]
  },
  {
   "cell_type": "code",
   "execution_count": 14,
   "id": "310f3a12-3c3a-4e1f-a233-d58c8b43b299",
   "metadata": {},
   "outputs": [
    {
     "name": "stdout",
     "output_type": "stream",
     "text": [
      "{'Curso': 'Python para ML', 'Produtor': 'Didatica Tech', 'Preco': 'Gratuito', 'Nota': 10, 'Aluno': 'Guilherme P'}\n"
     ]
    },
    {
     "data": {
      "text/plain": [
       "'Python para ML'"
      ]
     },
     "execution_count": 14,
     "metadata": {},
     "output_type": "execute_result"
    }
   ],
   "source": [
    "#Exibindo valor expecifico que foi armazenadao em um dicionario\n",
    "\n",
    "print(dicionario)\n",
    "dicionario[\"Curso\"]"
   ]
  },
  {
   "cell_type": "code",
   "execution_count": 15,
   "id": "a4f3d21c-f440-4dd8-b9d9-00dcd7dba409",
   "metadata": {},
   "outputs": [
    {
     "name": "stdout",
     "output_type": "stream",
     "text": [
      "Guilherme P\n"
     ]
    }
   ],
   "source": [
    "#Atribuindo o valor armazenado em um dicionaria a uma Variavel\n",
    "\n",
    "a = dicionario[\"Aluno\"]\n",
    "print(a)"
   ]
  },
  {
   "cell_type": "code",
   "execution_count": 16,
   "id": "df33db10-b280-42f9-bbb7-647c8af69976",
   "metadata": {},
   "outputs": [
    {
     "name": "stdout",
     "output_type": "stream",
     "text": [
      "R$:1000\n"
     ]
    }
   ],
   "source": [
    "#Alterando valores dentro de um dicionario\n",
    "\n",
    "dicionario['Preco'] = \"R$:1000\"\n",
    "print(dicionario[\"Preco\"])"
   ]
  },
  {
   "cell_type": "code",
   "execution_count": 22,
   "id": "d7dd3ccd-fd1c-4783-90db-fccff9d7212f",
   "metadata": {},
   "outputs": [
    {
     "name": "stdout",
     "output_type": "stream",
     "text": [
      "{'Curso': 'Python para ML', 'Produtor': 'Didatica Tech', 'Preco': 'R$:1000', 'Nota': 10, 'Aluno': 'Guilherme P', 'Pre-Requisito': 'Pyton para iniciantes'}\n"
     ]
    }
   ],
   "source": [
    "#Adicionando novos itens ao dicionario\n",
    "\n",
    "dicionario[\"Pre-Requisito\"] = \"Pyton para iniciantes\"\n",
    "print(dicionario)"
   ]
  },
  {
   "cell_type": "code",
   "execution_count": 24,
   "id": "dc22df9a-2b7f-4a40-8bdf-74d1378791f9",
   "metadata": {},
   "outputs": [
    {
     "data": {
      "text/plain": [
       "dict_keys(['Curso', 'Produtor', 'Preco', 'Nota', 'Aluno', 'Pre-Requisito'])"
      ]
     },
     "execution_count": 24,
     "metadata": {},
     "output_type": "execute_result"
    }
   ],
   "source": [
    "#Exibindo todas as chaves\n",
    "dicionario.keys()\n"
   ]
  },
  {
   "cell_type": "code",
   "execution_count": 26,
   "id": "0dc159d6-0ecc-40f9-baf1-dabfd99e5946",
   "metadata": {},
   "outputs": [
    {
     "data": {
      "text/plain": [
       "dict_values(['Python para ML', 'Didatica Tech', 'R$:1000', 10, 'Guilherme P', 'Pyton para iniciantes'])"
      ]
     },
     "execution_count": 26,
     "metadata": {},
     "output_type": "execute_result"
    }
   ],
   "source": [
    "#Ecibe todos os valores\n",
    "dicionario.values()"
   ]
  },
  {
   "cell_type": "code",
   "execution_count": 28,
   "id": "4c84bbd5-aaae-4060-949f-1a0afdb773cb",
   "metadata": {},
   "outputs": [
    {
     "data": {
      "text/plain": [
       "dict_items([('Curso', 'Python para ML'), ('Produtor', 'Didatica Tech'), ('Preco', 'R$:1000'), ('Nota', 10), ('Aluno', 'Guilherme P'), ('Pre-Requisito', 'Pyton para iniciantes')])"
      ]
     },
     "execution_count": 28,
     "metadata": {},
     "output_type": "execute_result"
    }
   ],
   "source": [
    "#Exibe todas as chaves e valores\n",
    "dicionario.items()"
   ]
  },
  {
   "cell_type": "code",
   "execution_count": 30,
   "id": "83fdcc43-73d2-42b7-a20e-a3a424026ae2",
   "metadata": {},
   "outputs": [
    {
     "name": "stdout",
     "output_type": "stream",
     "text": [
      "{}\n"
     ]
    }
   ],
   "source": [
    "#Limpa todo o dicionario \n",
    "dicionario.clear()\n",
    "print(dicionario)"
   ]
  },
  {
   "cell_type": "code",
   "execution_count": null,
   "id": "400a07b1-75da-4df1-b620-7f82810526fd",
   "metadata": {},
   "outputs": [],
   "source": []
  }
 ],
 "metadata": {
  "kernelspec": {
   "display_name": "Python [conda env:base] *",
   "language": "python",
   "name": "conda-base-py"
  },
  "language_info": {
   "codemirror_mode": {
    "name": "ipython",
    "version": 3
   },
   "file_extension": ".py",
   "mimetype": "text/x-python",
   "name": "python",
   "nbconvert_exporter": "python",
   "pygments_lexer": "ipython3",
   "version": "3.12.7"
  }
 },
 "nbformat": 4,
 "nbformat_minor": 5
}
