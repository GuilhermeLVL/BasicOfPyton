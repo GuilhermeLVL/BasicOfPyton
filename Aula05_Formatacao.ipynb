{
 "cells": [
  {
   "cell_type": "code",
   "execution_count": 20,
   "id": "b301d783-743e-4bd8-8a5d-b96898304ec8",
   "metadata": {},
   "outputs": [],
   "source": [
    "fruta = \"Limao\""
   ]
  },
  {
   "cell_type": "code",
   "execution_count": 21,
   "id": "e7dd7db1-02f0-49fe-90e4-89db8717c5c5",
   "metadata": {},
   "outputs": [
    {
     "name": "stdout",
     "output_type": "stream",
     "text": [
      "O suco de Limao é o meu favorito\n"
     ]
    }
   ],
   "source": [
    "print('O suco de %s é o meu favorito' %fruta) "
   ]
  },
  {
   "cell_type": "code",
   "execution_count": 22,
   "id": "d56cf002-a0ab-41a6-8844-1b6d9ddd9da5",
   "metadata": {},
   "outputs": [
    {
     "name": "stdout",
     "output_type": "stream",
     "text": [
      "Suco de Limao é o meu favorito!\n"
     ]
    }
   ],
   "source": [
    "print('Suco de {} é o meu favorito!'.format(fruta))"
   ]
  },
  {
   "cell_type": "code",
   "execution_count": 23,
   "id": "4c604f08-3329-486d-8c99-498a41c57660",
   "metadata": {},
   "outputs": [],
   "source": [
    "cor1 = \"azul\"\n",
    "cor2 = \"rosa\""
   ]
  },
  {
   "cell_type": "code",
   "execution_count": 24,
   "id": "2a6800df-e914-4220-82b7-a2e1c303d4ab",
   "metadata": {},
   "outputs": [
    {
     "name": "stdout",
     "output_type": "stream",
     "text": [
      "O ceu é azul ,a flor érosa e meu carro é rosa\n"
     ]
    }
   ],
   "source": [
    "print(\"O ceu é {0} ,a flor é{1} e meu carro é {2}\".format(cor1,cor2,cor2))"
   ]
  },
  {
   "cell_type": "code",
   "execution_count": 25,
   "id": "0b2541de-317e-432c-8fad-a9ff51b3b2af",
   "metadata": {},
   "outputs": [],
   "source": [
    "conta = 17/3"
   ]
  },
  {
   "cell_type": "code",
   "execution_count": 28,
   "id": "bc5a637d-b128-4a33-a027-1f452ce0ad49",
   "metadata": {},
   "outputs": [
    {
     "name": "stdout",
     "output_type": "stream",
     "text": [
      "O resultado da conta é 5.67\n"
     ]
    }
   ],
   "source": [
    "print('O resultado da conta é {0:.2f}'.format(conta))"
   ]
  },
  {
   "cell_type": "code",
   "execution_count": null,
   "id": "13e48c3e-a6a6-4a27-a92c-43cbe07fdb7f",
   "metadata": {},
   "outputs": [],
   "source": []
  }
 ],
 "metadata": {
  "kernelspec": {
   "display_name": "Python 3 (ipykernel)",
   "language": "python",
   "name": "python3"
  },
  "language_info": {
   "codemirror_mode": {
    "name": "ipython",
    "version": 3
   },
   "file_extension": ".py",
   "mimetype": "text/x-python",
   "name": "python",
   "nbconvert_exporter": "python",
   "pygments_lexer": "ipython3",
   "version": "3.12.7"
  }
 },
 "nbformat": 4,
 "nbformat_minor": 5
}
