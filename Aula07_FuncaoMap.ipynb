{
 "cells": [
  {
   "cell_type": "code",
   "execution_count": 17,
   "id": "1894bd95-a515-4ba8-a9ec-e67a3dab0b23",
   "metadata": {},
   "outputs": [],
   "source": [
    "kmh=[20,50,56,64,73,79,85,96,100,120]\n"
   ]
  },
  {
   "cell_type": "code",
   "execution_count": 18,
   "id": "3bd64276-3f7b-4976-9402-dc751845d9d4",
   "metadata": {},
   "outputs": [
    {
     "data": {
      "text/plain": [
       "10"
      ]
     },
     "execution_count": 18,
     "metadata": {},
     "output_type": "execute_result"
    }
   ],
   "source": [
    "len(kmh)"
   ]
  },
  {
   "cell_type": "code",
   "execution_count": 19,
   "id": "93c18cc3-daf6-4f41-b5f4-291f855564ae",
   "metadata": {},
   "outputs": [
    {
     "name": "stdout",
     "output_type": "stream",
     "text": [
      "[12.422360248447204, 31.05590062111801, 34.78260869565217, 39.75155279503105, 45.3416149068323, 49.06832298136646, 52.795031055900616, 59.62732919254658, 62.11180124223602, 74.53416149068323]\n"
     ]
    }
   ],
   "source": [
    "mph = []\n",
    "for i in kmh:\n",
    "    mph.append(i/1.61)\n",
    "print(mph)"
   ]
  },
  {
   "cell_type": "code",
   "execution_count": 27,
   "id": "103f5d80-677b-4c57-948d-996d531a5033",
   "metadata": {},
   "outputs": [
    {
     "name": "stdout",
     "output_type": "stream",
     "text": [
      "[12.422360248447204, 31.05590062111801, 34.78260869565217, 39.75155279503105, 45.3416149068323, 49.06832298136646, 52.795031055900616, 59.62732919254658, 62.11180124223602, 74.53416149068323]\n"
     ]
    }
   ],
   "source": [
    "#Funcao Lambda + Map \n",
    "\n",
    "mph2 = list( map(lambda x: x/1.61,kmh))\n",
    "print(mph2)"
   ]
  },
  {
   "cell_type": "code",
   "execution_count": null,
   "id": "011dbd45-0e0e-4997-a5a6-fe38e1122f98",
   "metadata": {},
   "outputs": [],
   "source": []
  }
 ],
 "metadata": {
  "kernelspec": {
   "display_name": "Python [conda env:base] *",
   "language": "python",
   "name": "conda-base-py"
  },
  "language_info": {
   "codemirror_mode": {
    "name": "ipython",
    "version": 3
   },
   "file_extension": ".py",
   "mimetype": "text/x-python",
   "name": "python",
   "nbconvert_exporter": "python",
   "pygments_lexer": "ipython3",
   "version": "3.12.7"
  }
 },
 "nbformat": 4,
 "nbformat_minor": 5
}
