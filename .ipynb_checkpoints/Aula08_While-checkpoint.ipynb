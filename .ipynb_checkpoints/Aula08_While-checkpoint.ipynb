{
 "cells": [
  {
   "cell_type": "code",
   "execution_count": 6,
   "id": "87f4a3b4-29f7-4ce9-bba2-59376a0b1173",
   "metadata": {},
   "outputs": [
    {
     "name": "stdout",
     "output_type": "stream",
     "text": [
      "Ainda nao deu\n",
      "Ainda nao deu\n",
      "Ainda nao deu\n",
      "Ainda nao deu\n",
      "Ainda nao deu\n",
      "Ainda nao deu\n",
      "Agora deu!\n"
     ]
    }
   ],
   "source": [
    "import time \n",
    "\n",
    "contador = 0\n",
    "while contador < 10:\n",
    "    print(\"Ainda nao deu\")\n",
    "    contador = contador + 1\n",
    "    time.sleep(1)\n",
    "    if contador == 6:\n",
    "        break\n",
    "print(\"Agora deu!\")\n"
   ]
  },
  {
   "cell_type": "code",
   "execution_count": 19,
   "id": "53dd5e0c-9992-49cf-90c0-f0f1a7324c85",
   "metadata": {},
   "outputs": [
    {
     "ename": "IndentationError",
     "evalue": "unexpected indent (2214404627.py, line 5)",
     "output_type": "error",
     "traceback": [
      "\u001b[1;36m  Cell \u001b[1;32mIn[19], line 5\u001b[1;36m\u001b[0m\n\u001b[1;33m    for i in range(Numero):\u001b[0m\n\u001b[1;37m    ^\u001b[0m\n\u001b[1;31mIndentationError\u001b[0m\u001b[1;31m:\u001b[0m unexpected indent\n"
     ]
    }
   ],
   "source": [
    "#Calculando Fatorial\n",
    "\n",
    "Numero = int(input(\"Informe um numero:\")) \n",
    "\n",
    "    for i in range(Numero):\n",
    "        fatorial = Numero - 1\n",
    "        \n",
    "     print(fatorial)\n",
    "    \n",
    "    \n",
    "   "
   ]
  },
  {
   "cell_type": "code",
   "execution_count": null,
   "id": "5f28e21c-bf65-4804-8e33-9ffbd2cba845",
   "metadata": {},
   "outputs": [],
   "source": []
  }
 ],
 "metadata": {
  "kernelspec": {
   "display_name": "Python 3 (ipykernel)",
   "language": "python",
   "name": "python3"
  },
  "language_info": {
   "codemirror_mode": {
    "name": "ipython",
    "version": 3
   },
   "file_extension": ".py",
   "mimetype": "text/x-python",
   "name": "python",
   "nbconvert_exporter": "python",
   "pygments_lexer": "ipython3",
   "version": "3.12.7"
  }
 },
 "nbformat": 4,
 "nbformat_minor": 5
}
