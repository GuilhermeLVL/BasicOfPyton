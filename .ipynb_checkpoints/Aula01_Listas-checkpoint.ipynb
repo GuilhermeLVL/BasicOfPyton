{
 "cells": [
  {
   "cell_type": "code",
   "execution_count": 5,
   "id": "7a6736b1-5c68-46d6-ba79-e30a7664e5a8",
   "metadata": {},
   "outputs": [],
   "source": [
    "lista = [1,2,3]\n"
   ]
  },
  {
   "cell_type": "code",
   "execution_count": 7,
   "id": "dc36580e-f1b7-4efe-89a1-bc762f8bfdc7",
   "metadata": {},
   "outputs": [
    {
     "name": "stdout",
     "output_type": "stream",
     "text": [
      "1\n"
     ]
    }
   ],
   "source": [
    "type(lista)\n",
    "print(lista[0])\n"
   ]
  },
  {
   "cell_type": "code",
   "execution_count": 9,
   "id": "68c9315c-b415-433f-b9be-a98b1d5b5777",
   "metadata": {},
   "outputs": [
    {
     "data": {
      "text/plain": [
       "9"
      ]
     },
     "execution_count": 9,
     "metadata": {},
     "output_type": "execute_result"
    }
   ],
   "source": [
    "lista2 = [[1,2,3],[4,5,6],[7,8,9]]\n",
    "lista2[2][2]\n"
   ]
  },
  {
   "cell_type": "code",
   "execution_count": 11,
   "id": "7fb37e6f-400b-47f6-a4fc-1bc3be718d86",
   "metadata": {},
   "outputs": [
    {
     "name": "stdout",
     "output_type": "stream",
     "text": [
      "[4, 5, 6]\n"
     ]
    }
   ],
   "source": [
    "select = lista2[1]\n",
    "print(select)"
   ]
  },
  {
   "cell_type": "code",
   "execution_count": 13,
   "id": "b20ee507-ed06-435f-9905-b795cc4f7735",
   "metadata": {},
   "outputs": [
    {
     "name": "stdout",
     "output_type": "stream",
     "text": [
      "A cidade esolhida e: Porto Alegre\n"
     ]
    }
   ],
   "source": [
    "import random\n",
    "cidades = ['Sao Paulo','Rio de Janeiro', 'Belo Horizonte','Porto Alegre']\n",
    "escolhida = random.choice(cidades)\n",
    "\n",
    "print('A cidade esolhida e:' ,escolhida )"
   ]
  },
  {
   "cell_type": "code",
   "execution_count": 15,
   "id": "12e976df-08e8-4b8b-8efe-79712ef4fb7c",
   "metadata": {},
   "outputs": [],
   "source": [
    "a = [1,2,3]\n"
   ]
  },
  {
   "cell_type": "code",
   "execution_count": 17,
   "id": "20211313-67cc-4386-9ee5-e8b04f04e392",
   "metadata": {},
   "outputs": [],
   "source": [
    "#Adiciona ao final da lista\n",
    "a.append(15)"
   ]
  },
  {
   "cell_type": "code",
   "execution_count": 19,
   "id": "0d0ffa48-e7f7-416b-823e-8ae229415e07",
   "metadata": {},
   "outputs": [
    {
     "name": "stdout",
     "output_type": "stream",
     "text": [
      "[1, 2, 3, 15]\n"
     ]
    }
   ],
   "source": [
    "print(a)"
   ]
  },
  {
   "cell_type": "code",
   "execution_count": 21,
   "id": "3af26ee1-5b38-4a22-ab05-a9ced9b06ccc",
   "metadata": {},
   "outputs": [],
   "source": [
    "b = [7,8,9]"
   ]
  },
  {
   "cell_type": "code",
   "execution_count": 23,
   "id": "ef0cd7cd-5bc5-4eb8-bb6e-e0ff1531a78f",
   "metadata": {},
   "outputs": [
    {
     "name": "stdout",
     "output_type": "stream",
     "text": [
      "[1, 2, 3, 15, 7]\n",
      "[1, 2, 3, 15, 7, 8]\n",
      "[1, 2, 3, 15, 7, 8, 9]\n"
     ]
    }
   ],
   "source": [
    "for item in b:\n",
    "    a.append(item)\n",
    "    print(a)"
   ]
  },
  {
   "cell_type": "code",
   "execution_count": 25,
   "id": "16c037e6-888e-4eb4-9b49-6e4ab1bb012a",
   "metadata": {},
   "outputs": [
    {
     "name": "stdout",
     "output_type": "stream",
     "text": [
      "Teste\n"
     ]
    }
   ],
   "source": [
    "print(\"Teste\")"
   ]
  },
  {
   "cell_type": "code",
   "execution_count": null,
   "id": "28bb5912-45c7-4fba-80d1-33cfb84b9b18",
   "metadata": {},
   "outputs": [],
   "source": []
  }
 ],
 "metadata": {
  "kernelspec": {
   "display_name": "Python [conda env:base] *",
   "language": "python",
   "name": "conda-base-py"
  },
  "language_info": {
   "codemirror_mode": {
    "name": "ipython",
    "version": 3
   },
   "file_extension": ".py",
   "mimetype": "text/x-python",
   "name": "python",
   "nbconvert_exporter": "python",
   "pygments_lexer": "ipython3",
   "version": "3.12.7"
  }
 },
 "nbformat": 4,
 "nbformat_minor": 5
}
