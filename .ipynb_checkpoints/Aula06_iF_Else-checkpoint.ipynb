{
 "cells": [
  {
   "cell_type": "code",
   "execution_count": 3,
   "id": "cf087800-e8a0-4959-b7a6-0cea2ee8d8c9",
   "metadata": {},
   "outputs": [
    {
     "name": "stdout",
     "output_type": "stream",
     "text": [
      "Possui muitas calorias!\n"
     ]
    }
   ],
   "source": [
    "comida = \"Pizza\"\n",
    "if comida == \"Pizza\": \n",
    "    print(\"Possui muitas calorias!\")"
   ]
  },
  {
   "cell_type": "code",
   "execution_count": 5,
   "id": "763f1163-1974-453c-b5fb-b3f14be38182",
   "metadata": {},
   "outputs": [
    {
     "name": "stdout",
     "output_type": "stream",
     "text": [
      "Desconheco as calorias!\n"
     ]
    }
   ],
   "source": [
    "comida = \"Macarrao\"\n",
    "if comida == \"Pizza\": \n",
    "    print(\"Possui muitas calorias!\")\n",
    "else:\n",
    "    print(\"Desconheco as calorias!\")"
   ]
  },
  {
   "cell_type": "code",
   "execution_count": 9,
   "id": "698d43bd-41c2-457e-b2e8-3caa64f858fb",
   "metadata": {},
   "outputs": [
    {
     "name": "stdout",
     "output_type": "stream",
     "text": [
      "Possui Omega3!\n"
     ]
    }
   ],
   "source": [
    "comida = \"Peixe\"\n",
    "if comida == \"Pizza\": \n",
    "    print(\"Possui muitas calorias!\")\n",
    "elif comida == \"Abobora\":\n",
    "    print(\"Possui Poucas Calrias!\")\n",
    "elif comida == \"Peixe\":\n",
    "    print('Possui Omega3!')\n",
    "else: \n",
    "    print(\"Desconheco as calorias\")"
   ]
  },
  {
   "cell_type": "code",
   "execution_count": 11,
   "id": "8944b17d-8241-4cee-b760-efb9a2f1de71",
   "metadata": {},
   "outputs": [
    {
     "name": "stdout",
     "output_type": "stream",
     "text": [
      "Nao é Pizza\n"
     ]
    }
   ],
   "source": [
    "comida = \"Peixe\"\n",
    "if comida != \"Pizza\": \n",
    "    print('Nao é Pizza')\n",
    "else:\n",
    "    print('É Pizza')\n"
   ]
  },
  {
   "cell_type": "code",
   "execution_count": 12,
   "id": "ad0e7b60-3f61-4af0-8220-c29be964815f",
   "metadata": {},
   "outputs": [
    {
     "name": "stdin",
     "output_type": "stream",
     "text": [
      "Qual sua idade? 22\n"
     ]
    }
   ],
   "source": [
    "idade = int(input(\"Qual sua idade?\"))"
   ]
  },
  {
   "cell_type": "code",
   "execution_count": 13,
   "id": "49527125-f9d4-4674-baad-e2c602e9fa70",
   "metadata": {},
   "outputs": [
    {
     "name": "stdout",
     "output_type": "stream",
     "text": [
      "Voce é MAIOR de idade\n"
     ]
    }
   ],
   "source": [
    "if idade >= 18:\n",
    "    print(\"Voce é MAIOR de idade\")\n",
    "else:\n",
    "    print(\"Voce é MENOR de idade\")"
   ]
  },
  {
   "cell_type": "code",
   "execution_count": null,
   "id": "505ccbd5-1472-4dfd-b51c-2acbb674d3f6",
   "metadata": {},
   "outputs": [],
   "source": []
  }
 ],
 "metadata": {
  "kernelspec": {
   "display_name": "Python 3 (ipykernel)",
   "language": "python",
   "name": "python3"
  },
  "language_info": {
   "codemirror_mode": {
    "name": "ipython",
    "version": 3
   },
   "file_extension": ".py",
   "mimetype": "text/x-python",
   "name": "python",
   "nbconvert_exporter": "python",
   "pygments_lexer": "ipython3",
   "version": "3.12.7"
  }
 },
 "nbformat": 4,
 "nbformat_minor": 5
}
